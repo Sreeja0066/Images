{
 "cells": [
  {
   "cell_type": "code",
   "execution_count": null,
   "id": "59e34ef4",
   "metadata": {},
   "outputs": [],
   "source": [
    "x1 = -1\n",
    "y1 = -1\n",
    "def mouse_tracking(event, x, y, flags, param):\n",
    "    global x1, y1\n",
    "    if event == 1 :\n",
    "        x1 = x\n",
    "        y1 = y\n",
    "    elif event == 2 :\n",
    "        cv2.line(frame,(x1,y1),(x,y),(0,0,255),2)\n",
    "\n",
    "    elif event == 4 :\n",
    "        cv2.rectangle(frame,(x1,y1),(x,y),(0,0,255),2)\n",
    "        if cv2.waitKey(1) == ord(\"r\"):\n",
    "            pass\n",
    "\n",
    "    \n",
    "    elif event == 10:  # Middle button down, draw a circle\n",
    "        cv2.circle(frame, (x, y), 25, (0, 0, 255), 2)  # Red filled circle\n",
    "        \n",
    "    elif event == 11:  # Middle button down, draw a circle\n",
    "        cv2.circle(frame, (x, y), 25, (235, 206, 135), -1)  # blue filled circle"
   ]
  },
  {
   "cell_type": "code",
   "execution_count": null,
   "id": "d99069fb",
   "metadata": {},
   "outputs": [],
   "source": [
    "import cv2\n",
    "import numpy as np\n",
    "\n",
    "\n",
    "cv2.namedWindow(\"frame\")\n",
    "\n",
    "cv2.setMouseCallback(\"frame\",mouse_tracking)\n",
    "# Create a blank image (height, width, 3 color channels)\n",
    "frame = np.zeros((600, 800, 3), dtype=np.uint8)\n",
    "\n",
    "# Sky (70% of the image height)\n",
    "frame[:420, :] = (235, 206, 135)  # Light blue sky\n",
    "\n",
    "# Road (30% of the image height)\n",
    "frame[420:, :] = (169, 169, 169)  # Gray road\n",
    "\n",
    "center = (700, 100)  # Center of the sun\n",
    "radius = 40  # Radius of the yellow core\n",
    "cv2.circle(frame, center, radius, (0, 255, 255), -1)  # Yellow core (BGR)\n",
    "\n",
    "# Add three concentric orange circles\n",
    "for i in range(1, 4):\n",
    "    cv2.circle(frame, center, radius + i * 10, (0, 140, 255), 2)  # Orange rays (BGR)\n",
    "\n",
    "\n",
    "c = 0\n",
    "while True:\n",
    "    cv2.imshow(\"frame\",frame)\n",
    "\n",
    "    if cv2.waitKey(1) == ord(\"s\"):\n",
    "        cv2.imwrite(r\"C:\\Users\\phane\\Downloads\\Assignment\\{}.jpg\".format(c),frame)\n",
    "        print(\"frame captured\")\n",
    "        c += 1\n",
    "    if cv2.waitKey(1) == ord(\"q\"):\n",
    "        break\n",
    "\n",
    "cv2.destroyAllWindows()"
   ]
  },
  {
   "cell_type": "code",
   "execution_count": null,
   "id": "c2089627",
   "metadata": {},
   "outputs": [],
   "source": [
    "import re\n",
    "frame_file = [f for f in frames if f.endswith(('.jpg'))]\n",
    "frame_file.sort(key=lambda x: int(re.findall(r'\\d+', os.path.splitext(x)[0])[0]))"
   ]
  },
  {
   "cell_type": "code",
   "execution_count": null,
   "id": "ff57fc1d",
   "metadata": {},
   "outputs": [],
   "source": [
    "while True:\n",
    "    for images in frame_file:\n",
    "        img=cv2.imread(r\"C:\\Users\\phane\\Downloads\\Assignment\\{}\".format(images))\n",
    "       \n",
    "        cv2.imshow(\"GIF\",img)\n",
    "        if cv2.waitKey(25) == ord(\"q\"):\n",
    "            break\n",
    "        \n",
    "cv2.destroyAllWindows()"
   ]
  }
 ],
 "metadata": {
  "kernelspec": {
   "display_name": "Python 3 (ipykernel)",
   "language": "python",
   "name": "python3"
  },
  "language_info": {
   "codemirror_mode": {
    "name": "ipython",
    "version": 3
   },
   "file_extension": ".py",
   "mimetype": "text/x-python",
   "name": "python",
   "nbconvert_exporter": "python",
   "pygments_lexer": "ipython3",
   "version": "3.10.9"
  }
 },
 "nbformat": 4,
 "nbformat_minor": 5
}
